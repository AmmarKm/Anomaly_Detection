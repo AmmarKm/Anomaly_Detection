{
 "cells": [
  {
   "cell_type": "code",
   "execution_count": 1,
   "metadata": {
    "collapsed": false
   },
   "outputs": [
    {
     "name": "stderr",
     "output_type": "stream",
     "text": [
      "Using TensorFlow backend.\n"
     ]
    }
   ],
   "source": [
    "import numpy as np  \n",
    "import pandas as pd  \n",
    "import matplotlib.pyplot as plt  \n",
    "from PIL import Image\n",
    "from scipy.io import loadmat  \n",
    "from scipy import stats  \n",
    "from scipy.stats import multivariate_normal\n",
    "import re\n",
    "import glob\n",
    "from operator import itemgetter \n",
    "import random\n",
    "\n",
    "from support_functions import *\n",
    "\n",
    "from keras.layers import Input, Dense\n",
    "from keras.models import Model\n",
    "from keras.models import load_model"
   ]
  },
  {
   "cell_type": "markdown",
   "metadata": {},
   "source": [
    "## Read Data"
   ]
  },
  {
   "cell_type": "code",
   "execution_count": 3,
   "metadata": {
    "collapsed": false
   },
   "outputs": [
    {
     "name": "stdout",
     "output_type": "stream",
     "text": [
      "574  images are above our threshold and thus removed from the list\n"
     ]
    }
   ],
   "source": [
    "label_1_folder = [9,21]      # Images in this folder will be labeled as anomaly\n",
    "target_folders = range(1,22) # Read these folders\n",
    "data_path = \"CroppedYale/\"   # Source folder\n",
    "\n",
    "# Read image matrix (n*m), labels (vector of m), and image size\n",
    "imgs, labels, height, width = get_data(label_1_folder,target_folders,data_path)"
   ]
  },
  {
   "cell_type": "code",
   "execution_count": null,
   "metadata": {
    "collapsed": true
   },
   "outputs": [],
   "source": [
    "def compile_autoencoder(data, data_length, n_components=32):\n",
    "    '''\n",
    "    Function to construct and compile the deep autoencoder, then return the model\n",
    "    Input:\n",
    "        - data: input data (images in a n*m matrix format)\n",
    "        - data_length: size of each data point; used as the height \n",
    "        - n_components: number of components we want to keep in the decoded data\n",
    "    '''\n",
    "    # this is the size of our encoded representations\n",
    "    encoding_dim = n_components  # 32 floats -> compression of factor 24.5, assuming the input is 784 floats\n",
    "\n",
    "    # this is our input placeholder\n",
    "    num_data = len(data)\n",
    "    inputs = Input(shape=(data_length,))\n",
    "\n",
    "    # \"encoded\" is the encoded representation of the input\n",
    "    encoded = Dense(128, activation='relu')(inputs) \n",
    "    encoded = Dense(64, activation='relu')(encoded) \n",
    "    encoded = Dense(encoding_dim, activation='relu')(encoded)\n",
    "\n",
    "    # \"decoded\" is the lossy reconstruction of the input\n",
    "    decoded = Dense(64, activation='relu')(encoded)\n",
    "    decoded = Dense(128, activation='relu')(decoded) \n",
    "    decoded = Dense(img_size, activation='sigmoid')(decoded)\n",
    "\n",
    "    # this model maps an input to its reconstruction\n",
    "    autoencoder = Model(input_img, decoded)\n",
    "\n",
    "    # this model maps an input to its encoded representation\n",
    "    encoder = Model(input_img, encoded)\n",
    "\n",
    "    # create a placeholder for an encoded (32-dimensional) input h\n",
    "    #encoded_input = Input(shape=(encoding_dim,))\n",
    "    # retrieve the last layer of the autoencoder model (one layer before the final reconstruction)\n",
    "    #decoder_layer = autoencoder.layers[-3]\n",
    "    # create the decoder model that maps an encoded input to its reconstruction\n",
    "    #decoder = Model(encoded_input, decoder_layer(encoded_input))\n",
    "\n",
    "    autoencoder.compile(optimizer='adadelta', loss='mean_squared_error')\n",
    "    \n",
    "    return autoencoder"
   ]
  },
  {
   "cell_type": "code",
   "execution_count": 4,
   "metadata": {
    "collapsed": true
   },
   "outputs": [],
   "source": []
  },
  {
   "cell_type": "code",
   "execution_count": 5,
   "metadata": {
    "collapsed": true
   },
   "outputs": [],
   "source": [
    "autoencoder = load_model('model_autoencoder.h5')\n",
    "# encoder = load_model('model_encoder.h5')"
   ]
  },
  {
   "cell_type": "code",
   "execution_count": 6,
   "metadata": {
    "collapsed": true
   },
   "outputs": [],
   "source": [
    "# Prepare the input\n",
    "# Select only the Normal Image Dataset\n",
    "imgs_normal = imgs[:,labels == 0]\n",
    "# Split the images and labels\n",
    "# By default: 80% in training and 20% in testing\n",
    "train_ind, test_ind = perm_and_split(len(imgs_normal))\n",
    "x_all = np.transpose(imgs_normal)\n",
    "x_train = x_all[train_ind,:]\n",
    "x_test = x_all[test_ind,:]\n",
    "\n",
    "# Resize and reshape\n",
    "x_train = x_train.astype('float32') / 255.\n",
    "x_test = x_test.astype('float32') / 255.\n",
    "x_train = x_train.reshape((len(x_train), np.prod(x_train.shape[1:])))\n",
    "x_test = x_test.reshape((len(x_test), np.prod(x_test.shape[1:])))\n",
    "\n",
    "# Replicate in order to expand the size of the dataset \n",
    "x_train = np.tile(x_train, (200,1))\n",
    "x_test = np.tile(x_test, (200,1))\n"
   ]
  },
  {
   "cell_type": "code",
   "execution_count": 7,
   "metadata": {
    "collapsed": false
   },
   "outputs": [
    {
     "data": {
      "image/png": "[encoded data removed]",
      "text/plain": [
       "<matplotlib.figure.Figure at 0x7f958832e9b0>"
      ]
     },
     "metadata": {},
     "output_type": "display_data"
    }
   ],
   "source": [
    "encoded_imgs = encoder.predict(x_test)\n",
    "# decoded_imgs = decoder.predict(encoded_imgs)\n",
    "decoded_imgs = autoencoder.predict(x_test)\n",
    "\n",
    "n = 10  # how many digits we will display\n",
    "plt.figure(figsize=(20, 4))\n",
    "for i in range(n):\n",
    "    # display original\n",
    "    ax = plt.subplot(2, n, i + 1)\n",
    "    plt.imshow(x_test[i].reshape(height, width))\n",
    "    plt.gray()\n",
    "    ax.get_xaxis().set_visible(False)\n",
    "    ax.get_yaxis().set_visible(False)\n",
    "\n",
    "    # display the encoded image\n",
    "    # ax = plt.subplot(3, n, i + 1 + 2*n)\n",
    "    # plt.imshow(encoded_imgs[i].reshape(height, width))\n",
    "    # plt.gray()\n",
    "    # ax.get_xaxis().set_visible(False)\n",
    "    # ax.get_yaxis().set_visible(False)\n",
    "\n",
    "    # display reconstruction\n",
    "    ax = plt.subplot(2, n, i + 1 + n)\n",
    "    plt.imshow(decoded_imgs[i].reshape(height, width))\n",
    "    plt.gray()\n",
    "    ax.get_xaxis().set_visible(False)\n",
    "    ax.get_yaxis().set_visible(False)\n",
    "plt.show()\n"
   ]
  },
  {
   "cell_type": "code",
   "execution_count": null,
   "metadata": {
    "collapsed": true
   },
   "outputs": [],
   "source": []
  }
 ],
 "metadata": {
  "kernelspec": {
   "display_name": "Python 3",
   "language": "python",
   "name": "python3"
  },
  "language_info": {
   "codemirror_mode": {
    "name": "ipython",
    "version": 3
   },
   "file_extension": ".py",
   "mimetype": "text/x-python",
   "name": "python",
   "nbconvert_exporter": "python",
   "pygments_lexer": "ipython3",
   "version": "3.6.0"
  }
 },
 "nbformat": 4,
 "nbformat_minor": 2
}
