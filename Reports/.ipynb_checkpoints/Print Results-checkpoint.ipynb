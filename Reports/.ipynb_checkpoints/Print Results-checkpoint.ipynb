{
 "cells": [
  {
   "cell_type": "code",
   "execution_count": 1,
   "metadata": {
    "collapsed": false
   },
   "outputs": [],
   "source": [
    "import pandas as pd\n",
    "import numpy as np\n",
    "import os\n",
    "os.chdir('../') # Go to the parent folder"
   ]
  },
  {
   "cell_type": "code",
   "execution_count": 2,
   "metadata": {
    "collapsed": false
   },
   "outputs": [
    {
     "name": "stderr",
     "output_type": "stream",
     "text": [
      "Using TensorFlow backend.\n"
     ]
    }
   ],
   "source": [
    "results = np.load('evaluation_results.npy')"
   ]
  },
  {
   "cell_type": "code",
   "execution_count": 3,
   "metadata": {
    "collapsed": false
   },
   "outputs": [],
   "source": [
    "n_data = 6\n",
    "n_models = 4"
   ]
  },
  {
   "cell_type": "code",
   "execution_count": 4,
   "metadata": {
    "collapsed": true
   },
   "outputs": [],
   "source": [
    "def create_df(attr):\n",
    "    '''\n",
    "    A function to extract the target measurement (attr) from the saved results, and display in table format\n",
    "    '''\n",
    "    result_mx = np.zeros((n_models,n_data)) # Initialize a matrix to store the target measurement\n",
    "    colnames = [] # Initialize the list to store the column name (the name of the dataset)\n",
    "    rownames = [] # Initialize a list to store the row name (the name of the methods)\n",
    "    count = 0\n",
    "    for i in range(0,n_data):\n",
    "        for j in range(0,n_models):\n",
    "            result_mx[j,i] = getattr(results[count],attr) # Get the target measurement\n",
    "            if i == 0: # Record the detection models' name\n",
    "                rownames.append(results[count].detect_model)\n",
    "            if j == 0: # Record the datasets' name\n",
    "                colnames.append(results[count].data_name)\n",
    "            count +=1\n",
    "    pd.options.display.float_format = '{:.2%}'.format # Set format: percentage with 2 decimal points\n",
    "    df = pd.DataFrame(result_mx)\n",
    "    df.columns = colnames\n",
    "    df.insert(0,'Detection Model',rownames)\n",
    "    return df"
   ]
  },
  {
   "cell_type": "markdown",
   "metadata": {},
   "source": [
    "### R-Precision"
   ]
  },
  {
   "cell_type": "code",
   "execution_count": 5,
   "metadata": {
    "collapsed": false
   },
   "outputs": [
    {
     "data": {
      "text/html": [
       "<div>\n",
       "<style>\n",
       "    .dataframe thead tr:only-child th {\n",
       "        text-align: right;\n",
       "    }\n",
       "\n",
       "    .dataframe thead th {\n",
       "        text-align: left;\n",
       "    }\n",
       "\n",
       "    .dataframe tbody tr th {\n",
       "        vertical-align: top;\n",
       "    }\n",
       "</style>\n",
       "<table border=\"1\" class=\"dataframe\">\n",
       "  <thead>\n",
       "    <tr style=\"text-align: right;\">\n",
       "      <th></th>\n",
       "      <th>Detection Model</th>\n",
       "      <th>MNIST</th>\n",
       "      <th>Yale Faces</th>\n",
       "      <th>Synthetic/</th>\n",
       "      <th>Synthetic_2/</th>\n",
       "      <th>Synthetic_3/</th>\n",
       "      <th>Synthetic_4/</th>\n",
       "    </tr>\n",
       "  </thead>\n",
       "  <tbody>\n",
       "    <tr>\n",
       "      <th>0</th>\n",
       "      <td>PCA Reconstruction</td>\n",
       "      <td>47.19%</td>\n",
       "      <td>57.14%</td>\n",
       "      <td>8.05%</td>\n",
       "      <td>18.40%</td>\n",
       "      <td>58.26%</td>\n",
       "      <td>11.98%</td>\n",
       "    </tr>\n",
       "    <tr>\n",
       "      <th>1</th>\n",
       "      <td>PCA Guassian</td>\n",
       "      <td>0.00%</td>\n",
       "      <td>7.14%</td>\n",
       "      <td>2.14%</td>\n",
       "      <td>15.31%</td>\n",
       "      <td>53.63%</td>\n",
       "      <td>1.78%</td>\n",
       "    </tr>\n",
       "    <tr>\n",
       "      <th>2</th>\n",
       "      <td>Autoencoder Reconstruction</td>\n",
       "      <td>61.63%</td>\n",
       "      <td>78.57%</td>\n",
       "      <td>0.00%</td>\n",
       "      <td>26.41%</td>\n",
       "      <td>4.82%</td>\n",
       "      <td>0.00%</td>\n",
       "    </tr>\n",
       "    <tr>\n",
       "      <th>3</th>\n",
       "      <td>Autoencoder Gaussian</td>\n",
       "      <td>13.86%</td>\n",
       "      <td>7.14%</td>\n",
       "      <td>5.98%</td>\n",
       "      <td>7.67%</td>\n",
       "      <td>7.90%</td>\n",
       "      <td>24.32%</td>\n",
       "    </tr>\n",
       "  </tbody>\n",
       "</table>\n",
       "</div>"
      ],
      "text/plain": [
       "              Detection Model  MNIST  Yale Faces  Synthetic/  Synthetic_2/  \\\n",
       "0          PCA Reconstruction 47.19%      57.14%       8.05%        18.40%   \n",
       "1                PCA Guassian  0.00%       7.14%       2.14%        15.31%   \n",
       "2  Autoencoder Reconstruction 61.63%      78.57%       0.00%        26.41%   \n",
       "3        Autoencoder Gaussian 13.86%       7.14%       5.98%         7.67%   \n",
       "\n",
       "   Synthetic_3/  Synthetic_4/  \n",
       "0        58.26%        11.98%  \n",
       "1        53.63%         1.78%  \n",
       "2         4.82%         0.00%  \n",
       "3         7.90%        24.32%  "
      ]
     },
     "execution_count": 5,
     "metadata": {},
     "output_type": "execute_result"
    }
   ],
   "source": [
    "create_df('RPrec')"
   ]
  },
  {
   "cell_type": "markdown",
   "metadata": {},
   "source": [
    "### Precision @ K"
   ]
  },
  {
   "cell_type": "code",
   "execution_count": 7,
   "metadata": {
    "collapsed": false
   },
   "outputs": [
    {
     "data": {
      "text/html": [
       "<div>\n",
       "<style>\n",
       "    .dataframe thead tr:only-child th {\n",
       "        text-align: right;\n",
       "    }\n",
       "\n",
       "    .dataframe thead th {\n",
       "        text-align: left;\n",
       "    }\n",
       "\n",
       "    .dataframe tbody tr th {\n",
       "        vertical-align: top;\n",
       "    }\n",
       "</style>\n",
       "<table border=\"1\" class=\"dataframe\">\n",
       "  <thead>\n",
       "    <tr style=\"text-align: right;\">\n",
       "      <th></th>\n",
       "      <th>Detection Model</th>\n",
       "      <th>MNIST</th>\n",
       "      <th>Yale Faces</th>\n",
       "      <th>Synthetic/</th>\n",
       "      <th>Synthetic_2/</th>\n",
       "      <th>Synthetic_3/</th>\n",
       "      <th>Synthetic_4/</th>\n",
       "    </tr>\n",
       "  </thead>\n",
       "  <tbody>\n",
       "    <tr>\n",
       "      <th>0</th>\n",
       "      <td>PCA Reconstruction</td>\n",
       "      <td>80.00%</td>\n",
       "      <td>60.00%</td>\n",
       "      <td>15.00%</td>\n",
       "      <td>20.00%</td>\n",
       "      <td>100.00%</td>\n",
       "      <td>10.00%</td>\n",
       "    </tr>\n",
       "    <tr>\n",
       "      <th>1</th>\n",
       "      <td>PCA Guassian</td>\n",
       "      <td>0.00%</td>\n",
       "      <td>10.00%</td>\n",
       "      <td>0.00%</td>\n",
       "      <td>20.00%</td>\n",
       "      <td>100.00%</td>\n",
       "      <td>0.00%</td>\n",
       "    </tr>\n",
       "    <tr>\n",
       "      <th>2</th>\n",
       "      <td>Autoencoder Reconstruction</td>\n",
       "      <td>90.00%</td>\n",
       "      <td>90.00%</td>\n",
       "      <td>0.00%</td>\n",
       "      <td>0.00%</td>\n",
       "      <td>100.00%</td>\n",
       "      <td>0.00%</td>\n",
       "    </tr>\n",
       "    <tr>\n",
       "      <th>3</th>\n",
       "      <td>Autoencoder Gaussian</td>\n",
       "      <td>10.00%</td>\n",
       "      <td>10.00%</td>\n",
       "      <td>0.00%</td>\n",
       "      <td>15.00%</td>\n",
       "      <td>85.00%</td>\n",
       "      <td>0.00%</td>\n",
       "    </tr>\n",
       "  </tbody>\n",
       "</table>\n",
       "</div>"
      ],
      "text/plain": [
       "              Detection Model  MNIST  Yale Faces  Synthetic/  Synthetic_2/  \\\n",
       "0          PCA Reconstruction 80.00%      60.00%      15.00%        20.00%   \n",
       "1                PCA Guassian  0.00%      10.00%       0.00%        20.00%   \n",
       "2  Autoencoder Reconstruction 90.00%      90.00%       0.00%         0.00%   \n",
       "3        Autoencoder Gaussian 10.00%      10.00%       0.00%        15.00%   \n",
       "\n",
       "   Synthetic_3/  Synthetic_4/  \n",
       "0       100.00%        10.00%  \n",
       "1       100.00%         0.00%  \n",
       "2       100.00%         0.00%  \n",
       "3        85.00%         0.00%  "
      ]
     },
     "execution_count": 7,
     "metadata": {},
     "output_type": "execute_result"
    }
   ],
   "source": [
    "create_df('PrecK')"
   ]
  }
 ],
 "metadata": {
  "anaconda-cloud": {},
  "kernelspec": {
   "display_name": "Python 3",
   "language": "python",
   "name": "python3"
  },
  "language_info": {
   "codemirror_mode": {
    "name": "ipython",
    "version": 3
   },
   "file_extension": ".py",
   "mimetype": "text/x-python",
   "name": "python",
   "nbconvert_exporter": "python",
   "pygments_lexer": "ipython3",
   "version": "3.6.0"
  }
 },
 "nbformat": 4,
 "nbformat_minor": 2
}
