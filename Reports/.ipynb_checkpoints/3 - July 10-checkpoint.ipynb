{
 "cells": [
  {
   "cell_type": "code",
   "execution_count": null,
   "metadata": {
    "collapsed": false
   },
   "outputs": [
    {
     "name": "stderr",
     "output_type": "stream",
     "text": [
      "Using TensorFlow backend.\n"
     ]
    }
   ],
   "source": [
    "import os\n",
    "os.chdir('../') # Go to the parent folder\n",
    "from test_functions import *\n",
    "from AnomalyDataClass import * # Functions to extract parameters of each data files \n",
    "from support_functions import *"
   ]
  },
  {
   "cell_type": "code",
   "execution_count": null,
   "metadata": {
    "collapsed": false,
    "scrolled": false
   },
   "outputs": [
    {
     "name": "stdout",
     "output_type": "stream",
     "text": [
      "<function read_mnist_data at 0x7fd50b1c3e18>\n",
      "<function detection_with_pca_reconstruction_error at 0x7fd50a401d08>\n",
      "<function detection_with_pca_gaussian at 0x7fd50a401d90>\n"
     ]
    },
    {
     "name": "stderr",
     "output_type": "stream",
     "text": [
      "/home/ivan/ML/Anomaly_Detection/support_functions.py:518: RuntimeWarning: invalid value encountered in double_scalars\n",
      "  for epsilon in np.arange(val_ranked.min(), val_ranked.max(), step):\n"
     ]
    },
    {
     "name": "stdout",
     "output_type": "stream",
     "text": [
      "<function detection_with_autoencoder_reconstruction_error at 0x7fd50a401e18>\n",
      "<function detection_with_autoencoder_gaussian at 0x7fd50a401ea0>\n",
      "<function get_yale_faces_data at 0x7fd50a3e37b8>\n",
      "<function detection_with_pca_reconstruction_error at 0x7fd50a401d08>\n",
      "<function detection_with_pca_gaussian at 0x7fd50a401d90>\n",
      "<function detection_with_autoencoder_reconstruction_error at 0x7fd50a401e18>\n",
      "<function detection_with_autoencoder_gaussian at 0x7fd50a401ea0>\n",
      "<function read_synthetic_data at 0x7fd50a401c80>\n",
      "<function detection_with_pca_reconstruction_error at 0x7fd50a401d08>\n",
      "<function detection_with_pca_gaussian at 0x7fd50a401d90>\n",
      "<function detection_with_autoencoder_reconstruction_error at 0x7fd50a401e18>\n",
      "<function detection_with_autoencoder_gaussian at 0x7fd50a401ea0>\n",
      "<function read_synthetic_data at 0x7fd50a401c80>\n",
      "<function detection_with_pca_reconstruction_error at 0x7fd50a401d08>\n",
      "<function detection_with_pca_gaussian at 0x7fd50a401d90>\n",
      "<function detection_with_autoencoder_reconstruction_error at 0x7fd50a401e18>\n"
     ]
    }
   ],
   "source": [
    "read_funcs = [read_mnist_data,get_yale_faces_data,read_synthetic_data,read_synthetic_data,read_synthetic_data,read_synthetic_data]\n",
    "parameters = ['','','Synthetic/','Synthetic_2/','Synthetic_3/','Synthetic_4/']\n",
    "detect_funcs = [detection_with_pca_reconstruction_error,detection_with_pca_gaussian,detection_with_autoencoder_reconstruction_error,detection_with_autoencoder_gaussian]\n",
    "\n",
    "# Initialize a list to record results\n",
    "results = []\n",
    "\n",
    "# Loop through read_funcs\n",
    "counter = 0\n",
    "for read_func in read_funcs:\n",
    "    print(str(read_func))\n",
    "    if len(parameters[counter]) == 0: # no parameter\n",
    "        AnomalyData, data_train, data_test, labels_train, labels_test=read_func() # Get the data\n",
    "    else: \n",
    "        AnomalyData, data_train, data_test, labels_train, labels_test=read_func(parameters[counter]) # Get the data\n",
    "    for detect_func in detect_funcs:\n",
    "        print(str(detect_func))\n",
    "        result = detect_func(AnomalyData,data_train, data_test,labels_train,labels_test,to_print = False)\n",
    "        results.append(result)\n",
    "    counter+=1 # Add 1"
   ]
  },
  {
   "cell_type": "code",
   "execution_count": null,
   "metadata": {
    "collapsed": false
   },
   "outputs": [],
   "source": [
    "len(results)"
   ]
  },
  {
   "cell_type": "code",
   "execution_count": null,
   "metadata": {
    "collapsed": false
   },
   "outputs": [],
   "source": [
    "# Save the data and labels\n",
    "np.save('evaluation_results.npy',results)"
   ]
  }
 ],
 "metadata": {
  "anaconda-cloud": {},
  "kernelspec": {
   "display_name": "Python 3",
   "language": "python",
   "name": "python3"
  },
  "language_info": {
   "codemirror_mode": {
    "name": "ipython",
    "version": 3
   },
   "file_extension": ".py",
   "mimetype": "text/x-python",
   "name": "python",
   "nbconvert_exporter": "python",
   "pygments_lexer": "ipython3",
   "version": "3.6.0"
  }
 },
 "nbformat": 4,
 "nbformat_minor": 2
}
