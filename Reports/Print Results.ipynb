{
 "cells": [
  {
   "cell_type": "code",
   "execution_count": 1,
   "metadata": {
    "collapsed": false
   },
   "outputs": [],
   "source": [
    "import pandas as pd\n",
    "import numpy as np\n",
    "import os\n",
    "os.chdir('../') # Go to the parent folder"
   ]
  },
  {
   "cell_type": "code",
   "execution_count": 2,
   "metadata": {
    "collapsed": false
   },
   "outputs": [
    {
     "name": "stderr",
     "output_type": "stream",
     "text": [
      "Using TensorFlow backend.\n"
     ]
    }
   ],
   "source": [
    "results = np.load('evaluation_results.npy')"
   ]
  },
  {
   "cell_type": "code",
   "execution_count": 3,
   "metadata": {
    "collapsed": false
   },
   "outputs": [],
   "source": [
    "n_data = 6\n",
    "n_models = 4\n",
    "n_runs = results[0] # I stored the number of runs in the beginning of the "
   ]
  },
  {
   "cell_type": "code",
   "execution_count": 4,
   "metadata": {
    "collapsed": false
   },
   "outputs": [],
   "source": [
    "def create_df(attr):\n",
    "    '''\n",
    "    A function to extract the target measurement (attr) from the saved results, and display in table format\n",
    "    '''\n",
    "    result_mx = np.zeros((n_models,n_data)) # Initialize a matrix to store the target measurement\n",
    "    colnames = [] # Initialize the list to store the column name (the name of the dataset)\n",
    "    rownames = [] # Initialize a list to store the row name (the name of the methods)\n",
    "    count = 1 # Start with index 1: the first element is an integer n_runs\n",
    "    for i in range(0,n_data):\n",
    "        for j in range(0,n_models):\n",
    "            #result_mx[j,i] = getattr(results[count],attr) # Get the target measurement\n",
    "            result_mx[j,i] = find_avg_measurement(results,attr,n_data,n_models,n_runs,i,j) # Get the target measurement\n",
    "            if i == 0: # Record the detection models' name\n",
    "                rownames.append(results[count].detect_model)\n",
    "            if j == 0: # Record the datasets' name\n",
    "                colnames.append(results[count].data_name)\n",
    "            count +=1\n",
    "    pd.options.display.float_format = '{:.2%}'.format # Set format: percentage with 2 decimal points\n",
    "    df = pd.DataFrame(result_mx)\n",
    "    df.columns = colnames\n",
    "    df.insert(0,'Detection Model',rownames)\n",
    "    return df\n",
    "\n",
    "def find_avg_measurement(results,attr,n_data,n_models,n_runs,i,j):\n",
    "    \"\"\"\n",
    "    A function to compute the average measurement from multiple runs\n",
    "    \"\"\"\n",
    "    measurements = np.zeros(n_runs)\n",
    "    for run in range(n_runs):\n",
    "        index = n_data*n_models*run + i*n_models + j + 1 # The first element in the results is n_runs\n",
    "        measurements[run] = getattr(results[index],attr) # Get the measurement\n",
    "    avg_measurement = np.mean(measurements)\n",
    "    return avg_measurement"
   ]
  },
  {
   "cell_type": "markdown",
   "metadata": {},
   "source": [
    "### R-Precision"
   ]
  },
  {
   "cell_type": "code",
   "execution_count": 5,
   "metadata": {
    "collapsed": false
   },
   "outputs": [
    {
     "data": {
      "text/html": [
       "<div>\n",
       "<style>\n",
       "    .dataframe thead tr:only-child th {\n",
       "        text-align: right;\n",
       "    }\n",
       "\n",
       "    .dataframe thead th {\n",
       "        text-align: left;\n",
       "    }\n",
       "\n",
       "    .dataframe tbody tr th {\n",
       "        vertical-align: top;\n",
       "    }\n",
       "</style>\n",
       "<table border=\"1\" class=\"dataframe\">\n",
       "  <thead>\n",
       "    <tr style=\"text-align: right;\">\n",
       "      <th></th>\n",
       "      <th>Detection Model</th>\n",
       "      <th>MNIST</th>\n",
       "      <th>Yale Faces</th>\n",
       "      <th>Synthetic/</th>\n",
       "      <th>Synthetic_2/</th>\n",
       "      <th>Synthetic_3/</th>\n",
       "      <th>Synthetic_4/</th>\n",
       "    </tr>\n",
       "  </thead>\n",
       "  <tbody>\n",
       "    <tr>\n",
       "      <th>0</th>\n",
       "      <td>PCA Reconstruction</td>\n",
       "      <td>47.19%</td>\n",
       "      <td>55.14%</td>\n",
       "      <td>9.34%</td>\n",
       "      <td>18.57%</td>\n",
       "      <td>61.34%</td>\n",
       "      <td>11.97%</td>\n",
       "    </tr>\n",
       "    <tr>\n",
       "      <th>1</th>\n",
       "      <td>PCA Guassian</td>\n",
       "      <td>0.00%</td>\n",
       "      <td>4.17%</td>\n",
       "      <td>2.28%</td>\n",
       "      <td>15.13%</td>\n",
       "      <td>53.32%</td>\n",
       "      <td>1.61%</td>\n",
       "    </tr>\n",
       "    <tr>\n",
       "      <th>2</th>\n",
       "      <td>Autoencoder Reconstruction</td>\n",
       "      <td>61.63%</td>\n",
       "      <td>74.95%</td>\n",
       "      <td>0.00%</td>\n",
       "      <td>23.91%</td>\n",
       "      <td>5.49%</td>\n",
       "      <td>0.00%</td>\n",
       "    </tr>\n",
       "    <tr>\n",
       "      <th>3</th>\n",
       "      <td>Autoencoder Gaussian</td>\n",
       "      <td>9.04%</td>\n",
       "      <td>0.00%</td>\n",
       "      <td>6.31%</td>\n",
       "      <td>7.88%</td>\n",
       "      <td>8.51%</td>\n",
       "      <td>21.26%</td>\n",
       "    </tr>\n",
       "  </tbody>\n",
       "</table>\n",
       "</div>"
      ],
      "text/plain": [
       "              Detection Model  MNIST  Yale Faces  Synthetic/  Synthetic_2/  \\\n",
       "0          PCA Reconstruction 47.19%      55.14%       9.34%        18.57%   \n",
       "1                PCA Guassian  0.00%       4.17%       2.28%        15.13%   \n",
       "2  Autoencoder Reconstruction 61.63%      74.95%       0.00%        23.91%   \n",
       "3        Autoencoder Gaussian  9.04%       0.00%       6.31%         7.88%   \n",
       "\n",
       "   Synthetic_3/  Synthetic_4/  \n",
       "0        61.34%        11.97%  \n",
       "1        53.32%         1.61%  \n",
       "2         5.49%         0.00%  \n",
       "3         8.51%        21.26%  "
      ]
     },
     "execution_count": 5,
     "metadata": {},
     "output_type": "execute_result"
    }
   ],
   "source": [
    "create_df('RPrec')"
   ]
  },
  {
   "cell_type": "markdown",
   "metadata": {},
   "source": [
    "### Precision @ K"
   ]
  },
  {
   "cell_type": "code",
   "execution_count": 6,
   "metadata": {
    "collapsed": false
   },
   "outputs": [
    {
     "data": {
      "text/html": [
       "<div>\n",
       "<style>\n",
       "    .dataframe thead tr:only-child th {\n",
       "        text-align: right;\n",
       "    }\n",
       "\n",
       "    .dataframe thead th {\n",
       "        text-align: left;\n",
       "    }\n",
       "\n",
       "    .dataframe tbody tr th {\n",
       "        vertical-align: top;\n",
       "    }\n",
       "</style>\n",
       "<table border=\"1\" class=\"dataframe\">\n",
       "  <thead>\n",
       "    <tr style=\"text-align: right;\">\n",
       "      <th></th>\n",
       "      <th>Detection Model</th>\n",
       "      <th>MNIST</th>\n",
       "      <th>Yale Faces</th>\n",
       "      <th>Synthetic/</th>\n",
       "      <th>Synthetic_2/</th>\n",
       "      <th>Synthetic_3/</th>\n",
       "      <th>Synthetic_4/</th>\n",
       "    </tr>\n",
       "  </thead>\n",
       "  <tbody>\n",
       "    <tr>\n",
       "      <th>0</th>\n",
       "      <td>PCA Reconstruction</td>\n",
       "      <td>80.00%</td>\n",
       "      <td>66.67%</td>\n",
       "      <td>10.00%</td>\n",
       "      <td>30.00%</td>\n",
       "      <td>100.00%</td>\n",
       "      <td>8.33%</td>\n",
       "    </tr>\n",
       "    <tr>\n",
       "      <th>1</th>\n",
       "      <td>PCA Guassian</td>\n",
       "      <td>0.00%</td>\n",
       "      <td>6.67%</td>\n",
       "      <td>0.00%</td>\n",
       "      <td>13.33%</td>\n",
       "      <td>100.00%</td>\n",
       "      <td>0.00%</td>\n",
       "    </tr>\n",
       "    <tr>\n",
       "      <th>2</th>\n",
       "      <td>Autoencoder Reconstruction</td>\n",
       "      <td>90.00%</td>\n",
       "      <td>80.00%</td>\n",
       "      <td>0.00%</td>\n",
       "      <td>0.00%</td>\n",
       "      <td>100.00%</td>\n",
       "      <td>0.00%</td>\n",
       "    </tr>\n",
       "    <tr>\n",
       "      <th>3</th>\n",
       "      <td>Autoencoder Gaussian</td>\n",
       "      <td>8.33%</td>\n",
       "      <td>0.00%</td>\n",
       "      <td>0.00%</td>\n",
       "      <td>25.00%</td>\n",
       "      <td>81.67%</td>\n",
       "      <td>0.00%</td>\n",
       "    </tr>\n",
       "  </tbody>\n",
       "</table>\n",
       "</div>"
      ],
      "text/plain": [
       "              Detection Model  MNIST  Yale Faces  Synthetic/  Synthetic_2/  \\\n",
       "0          PCA Reconstruction 80.00%      66.67%      10.00%        30.00%   \n",
       "1                PCA Guassian  0.00%       6.67%       0.00%        13.33%   \n",
       "2  Autoencoder Reconstruction 90.00%      80.00%       0.00%         0.00%   \n",
       "3        Autoencoder Gaussian  8.33%       0.00%       0.00%        25.00%   \n",
       "\n",
       "   Synthetic_3/  Synthetic_4/  \n",
       "0       100.00%         8.33%  \n",
       "1       100.00%         0.00%  \n",
       "2       100.00%         0.00%  \n",
       "3        81.67%         0.00%  "
      ]
     },
     "execution_count": 6,
     "metadata": {},
     "output_type": "execute_result"
    }
   ],
   "source": [
    "create_df('PrecK')"
   ]
  }
 ],
 "metadata": {
  "anaconda-cloud": {},
  "kernelspec": {
   "display_name": "Python 3",
   "language": "python",
   "name": "python3"
  },
  "language_info": {
   "codemirror_mode": {
    "name": "ipython",
    "version": 3
   },
   "file_extension": ".py",
   "mimetype": "text/x-python",
   "name": "python",
   "nbconvert_exporter": "python",
   "pygments_lexer": "ipython3",
   "version": "3.6.0"
  }
 },
 "nbformat": 4,
 "nbformat_minor": 2
}
