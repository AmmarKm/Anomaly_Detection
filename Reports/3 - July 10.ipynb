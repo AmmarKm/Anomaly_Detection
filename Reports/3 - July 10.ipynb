{
 "cells": [
  {
   "cell_type": "code",
   "execution_count": 1,
   "metadata": {},
   "outputs": [
    {
     "name": "stderr",
     "output_type": "stream",
     "text": [
      "Using TensorFlow backend.\n"
     ]
    }
   ],
   "source": [
    "import os\n",
    "os.chdir('../') # Go to the parent folder\n",
    "from AnomalyDataClass import * # Functions to extract parameters of each data files \n",
    "from support_functions import *"
   ]
  },
  {
   "cell_type": "code",
   "execution_count": 2,
   "metadata": {
    "scrolled": false
   },
   "outputs": [
    {
     "name": "stdout",
     "output_type": "stream",
     "text": [
      "Run #1starts: \n",
      "<function read_mnist_data at 0x7f0c865ace18>\n"
     ]
    },
    {
     "name": "stderr",
     "output_type": "stream",
     "text": [
      "/home/ivan/ML/Anomaly_Detection/support_functions.py:518: RuntimeWarning: invalid value encountered in double_scalars\n",
      "  for epsilon in np.arange(val_ranked.min(), val_ranked.max(), step):\n"
     ]
    },
    {
     "name": "stdout",
     "output_type": "stream",
     "text": [
      "<function get_yale_faces_data at 0x7f0c857e47b8>\n",
      "<function read_synthetic_data at 0x7f0c857f2c80>\n",
      "<function read_synthetic_data at 0x7f0c857f2c80>\n",
      "<function read_synthetic_data at 0x7f0c857f2c80>\n",
      "<function read_synthetic_data at 0x7f0c857f2c80>\n",
      "Run #2starts: \n",
      "<function read_mnist_data at 0x7f0c865ace18>\n",
      "<function get_yale_faces_data at 0x7f0c857e47b8>\n",
      "<function read_synthetic_data at 0x7f0c857f2c80>\n",
      "<function read_synthetic_data at 0x7f0c857f2c80>\n",
      "<function read_synthetic_data at 0x7f0c857f2c80>\n",
      "<function read_synthetic_data at 0x7f0c857f2c80>\n",
      "Run #3starts: \n",
      "<function read_mnist_data at 0x7f0c865ace18>\n",
      "<function get_yale_faces_data at 0x7f0c857e47b8>\n",
      "<function read_synthetic_data at 0x7f0c857f2c80>\n",
      "<function read_synthetic_data at 0x7f0c857f2c80>\n",
      "<function read_synthetic_data at 0x7f0c857f2c80>\n",
      "<function read_synthetic_data at 0x7f0c857f2c80>\n"
     ]
    }
   ],
   "source": [
    "# Set up the test running\n",
    "read_funcs = [read_mnist_data,get_yale_faces_data,read_synthetic_data,read_synthetic_data,read_synthetic_data,read_synthetic_data]\n",
    "parameters = ['','','Synthetic/','Synthetic_2/','Synthetic_3/','Synthetic_4/']\n",
    "detect_funcs = [detection_with_pca_reconstruction_error,detection_with_pca_gaussian,detection_with_autoencoder_reconstruction_error,detection_with_autoencoder_gaussian]\n",
    "n_runs = 3 # Run 3 times and take an average\n",
    "\n",
    "# Initialize a list to record results\n",
    "results = []\n",
    "results.append(n_runs) # Store the number of runs in the first item as a reference\n",
    "\n",
    "# Loop through read_funcs\n",
    "for run in range(n_runs): # Run multiple times and get the results\n",
    "    print('Run #' + str(run+1) + ' starts: ')\n",
    "    counter = 0 # Reset the counter\n",
    "    for read_func in read_funcs:\n",
    "        print(str(read_func))\n",
    "        if len(parameters[counter]) == 0: # no parameter\n",
    "            AnomalyData, data_train, data_test, labels_train, labels_test=read_func() # Get the data\n",
    "        else: \n",
    "            AnomalyData, data_train, data_test, labels_train, labels_test=read_func(parameters[counter]) # Get the data\n",
    "        for detect_func in detect_funcs:\n",
    "            result = detect_func(AnomalyData,data_train, data_test,labels_train,labels_test,to_print = False)\n",
    "            results.append(result)\n",
    "        counter+=1 # Add 1"
   ]
  },
  {
   "cell_type": "code",
   "execution_count": 3,
   "metadata": {},
   "outputs": [
    {
     "data": {
      "text/plain": [
       "73"
      ]
     },
     "execution_count": 3,
     "metadata": {},
     "output_type": "execute_result"
    }
   ],
   "source": [
    "# Save the data and labels\n",
    "np.save('evaluation_results.npy',results)\n",
    "len(results)"
   ]
  }
 ],
 "metadata": {
  "anaconda-cloud": {},
  "kernelspec": {
   "display_name": "Python 3",
   "language": "python",
   "name": "python3"
  },
  "language_info": {
   "codemirror_mode": {
    "name": "ipython",
    "version": 3
   },
   "file_extension": ".py",
   "mimetype": "text/x-python",
   "name": "python",
   "nbconvert_exporter": "python",
   "pygments_lexer": "ipython3",
   "version": "3.6.1"
  }
 },
 "nbformat": 4,
 "nbformat_minor": 2
}
