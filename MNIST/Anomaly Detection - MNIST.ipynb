{
 "cells": [
  {
   "cell_type": "code",
   "execution_count": 3,
   "metadata": {
    "collapsed": true
   },
   "outputs": [],
   "source": [
    "import numpy as np"
   ]
  },
  {
   "cell_type": "markdown",
   "metadata": {},
   "source": [
    "## Read Datasets\n",
    "### Define File Names"
   ]
  },
  {
   "cell_type": "code",
   "execution_count": 1,
   "metadata": {
    "collapsed": true
   },
   "outputs": [],
   "source": [
    "data_path = 'data/input_data/'\n",
    "imgs_train_fname = 'imgs_train.npy'\n",
    "imgs_test_fname = 'imgs_test.npy'\n",
    "labels_train_fname = 'labels_train.npy'\n",
    "labels_test_fname = 'labels_test.npy'"
   ]
  },
  {
   "cell_type": "markdown",
   "metadata": {},
   "source": [
    "### Load all saved datasets"
   ]
  },
  {
   "cell_type": "code",
   "execution_count": 15,
   "metadata": {
    "collapsed": false
   },
   "outputs": [],
   "source": [
    "imgs_train = np.load(data_path + imgs_train_fname) # images in the training set, with shape: 60000 * 32 * 32\n",
    "imgs_train = imgs_train.reshape(len(imgs_train),-1) # reshape to 60000 * 1024\n",
    "\n",
    "imgs_test = np.load(data_path + imgs_test_fname) # images in the testing set, with shape: 10000 * 32 * 32\n",
    "imgs_test = imgs_test.reshape(len(imgs_test),-1) # reshape to 10000 * 1024\n",
    "\n",
    "labels_train = np.load(data_path + labels_train_fname) # labels in the training set, a vector with length 60000\n",
    "labels_test = np.load(data_path + labels_test_fname) # labels in the test set, a vector with length 10000"
   ]
  },
  {
   "cell_type": "markdown",
   "metadata": {},
   "source": [
    "### Define Anomaly\n",
    "Both the training set and the testing set contain the images of digits 0-9, and all the digits have almost equivalent number of images (please refer to the \"Exploratory data analysis\" file in the data folder for the histogram). \n",
    "\n",
    "**Here we define the images of the digit 0 as anomaly, and the images of other digits as normal. **"
   ]
  },
  {
   "cell_type": "code",
   "execution_count": 23,
   "metadata": {
    "collapsed": false
   },
   "outputs": [],
   "source": [
    "labels_input = labels_train\n",
    "anomaly_digit = 0\n",
    "\n",
    "def label_anomaly(labels_input, anomaly_digit):\n",
    "    \"\"\"\n",
    "    This function create a label vector to indicate anomaly. \n",
    "    input:\n",
    "    - labels_input: the input labels vector that contains number 0-9 from MNIST\n",
    "    - anomaly_digit: the target digit that we define as anomaly\n",
    "    \"\"\"\n",
    "    labels_anomaly = np.zeros(labels_input.shape) # create a zero vector of the same length with the input label vector\n",
    "    labels_anomaly[labels_input == anomaly_digit] = 1 # Mark the label of the anomaly digit as 1\n",
    "    return labels_anomaly # return the newly created vector"
   ]
  },
  {
   "cell_type": "code",
   "execution_count": 24,
   "metadata": {
    "collapsed": false
   },
   "outputs": [],
   "source": [
    "anomaly_digit = 0 # Define the target digit that we categorize as anomaly\n",
    "\n",
    "# Mark the labels of the target digit as anomaly (1), and others as normal (0)\n",
    "labels_anomaly_train = label_anomaly(labels_train, anomaly_digit) \n",
    "labels_anomaly_test = label_anomaly(labels_test, anomaly_digit) "
   ]
  }
 ],
 "metadata": {
  "kernelspec": {
   "display_name": "Python 3",
   "language": "python",
   "name": "python3"
  },
  "language_info": {
   "codemirror_mode": {
    "name": "ipython",
    "version": 3
   },
   "file_extension": ".py",
   "mimetype": "text/x-python",
   "name": "python",
   "nbconvert_exporter": "python",
   "pygments_lexer": "ipython3",
   "version": "3.6.0"
  }
 },
 "nbformat": 4,
 "nbformat_minor": 2
}
