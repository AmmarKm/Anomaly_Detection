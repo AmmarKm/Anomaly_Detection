{
 "cells": [
  {
   "cell_type": "code",
   "execution_count": 1,
   "metadata": {},
   "outputs": [],
   "source": [
    "import pandas as pd\n",
    "import numpy as np\n",
    "import os\n",
    "os.chdir('../') # Go to the parent folder"
   ]
  },
  {
   "cell_type": "code",
   "execution_count": 2,
   "metadata": {},
   "outputs": [
    {
     "name": "stderr",
     "output_type": "stream",
     "text": [
      "Using TensorFlow backend.\n"
     ]
    }
   ],
   "source": [
    "results = np.load('evaluation_results.npy')"
   ]
  },
  {
   "cell_type": "code",
   "execution_count": 3,
   "metadata": {},
   "outputs": [],
   "source": [
    "n_data = 6\n",
    "n_models = 4\n",
    "n_runs = results[0] # I stored the number of runs in the beginning of the "
   ]
  },
  {
   "cell_type": "code",
   "execution_count": 4,
   "metadata": {},
   "outputs": [],
   "source": [
    "def create_df(attr):\n",
    "    '''\n",
    "    A function to extract the target measurement (attr) from the saved results, and display in table format\n",
    "    '''\n",
    "    result_mx = np.zeros((n_models,n_data)) # Initialize a matrix to store the target measurement\n",
    "    colnames = [] # Initialize the list to store the column name (the name of the dataset)\n",
    "    rownames = [] # Initialize a list to store the row name (the name of the methods)\n",
    "    count = 1 # Start with index 1: the first element is an integer n_runs\n",
    "    for i in range(0,n_data):\n",
    "        for j in range(0,n_models):\n",
    "            #result_mx[j,i] = getattr(results[count],attr) # Get the target measurement\n",
    "            result_mx[j,i] = find_avg_measurement(results,attr,n_data,n_models,n_runs,i,j) # Get the target measurement\n",
    "            if i == 0: # Record the detection models' name\n",
    "                rownames.append(results[count].detect_model)\n",
    "            if j == 0: # Record the datasets' name\n",
    "                colnames.append(results[count].data_name)\n",
    "            count +=1\n",
    "    pd.options.display.float_format = '{:.2%}'.format # Set format: percentage with 2 decimal points\n",
    "    df = pd.DataFrame(result_mx)\n",
    "    df.columns = colnames\n",
    "    df.insert(0,'Detection Model',rownames)\n",
    "    return df\n",
    "\n",
    "def find_avg_measurement(results,attr,n_data,n_models,n_runs,i,j):\n",
    "    \"\"\"\n",
    "    A function to compute the average measurement from multiple runs\n",
    "    \"\"\"\n",
    "    measurements = np.zeros(n_runs)\n",
    "    for run in range(n_runs):\n",
    "        index = n_data*n_models*run + i*n_models + j + 1 # The first element in the results is n_runs\n",
    "        measurements[run] = getattr(results[index],attr) # Get the measurement\n",
    "    avg_measurement = np.mean(measurements)\n",
    "    return avg_measurement"
   ]
  },
  {
   "cell_type": "markdown",
   "metadata": {},
   "source": [
    "### R-Precision"
   ]
  },
  {
   "cell_type": "code",
   "execution_count": 5,
   "metadata": {},
   "outputs": [
    {
     "data": {
      "text/html": [
       "<div>\n",
       "<style>\n",
       "    .dataframe thead tr:only-child th {\n",
       "        text-align: right;\n",
       "    }\n",
       "\n",
       "    .dataframe thead th {\n",
       "        text-align: left;\n",
       "    }\n",
       "\n",
       "    .dataframe tbody tr th {\n",
       "        vertical-align: top;\n",
       "    }\n",
       "</style>\n",
       "<table border=\"1\" class=\"dataframe\">\n",
       "  <thead>\n",
       "    <tr style=\"text-align: right;\">\n",
       "      <th></th>\n",
       "      <th>Detection Model</th>\n",
       "      <th>MNIST</th>\n",
       "      <th>Yale Faces</th>\n",
       "      <th>Synthetic/</th>\n",
       "      <th>Synthetic_2/</th>\n",
       "      <th>Synthetic_3/</th>\n",
       "      <th>Synthetic_4/</th>\n",
       "    </tr>\n",
       "  </thead>\n",
       "  <tbody>\n",
       "    <tr>\n",
       "      <th>0</th>\n",
       "      <td>PCA Reconstruction</td>\n",
       "      <td>47.19%</td>\n",
       "      <td>48.42%</td>\n",
       "      <td>9.85%</td>\n",
       "      <td>18.72%</td>\n",
       "      <td>63.95%</td>\n",
       "      <td>11.73%</td>\n",
       "    </tr>\n",
       "    <tr>\n",
       "      <th>1</th>\n",
       "      <td>PCA Guassian</td>\n",
       "      <td>0.00%</td>\n",
       "      <td>1.71%</td>\n",
       "      <td>2.27%</td>\n",
       "      <td>15.47%</td>\n",
       "      <td>53.87%</td>\n",
       "      <td>1.63%</td>\n",
       "    </tr>\n",
       "    <tr>\n",
       "      <th>2</th>\n",
       "      <td>Autoencoder Reconstruction</td>\n",
       "      <td>57.95%</td>\n",
       "      <td>87.25%</td>\n",
       "      <td>13.21%</td>\n",
       "      <td>25.58%</td>\n",
       "      <td>70.23%</td>\n",
       "      <td>3.08%</td>\n",
       "    </tr>\n",
       "    <tr>\n",
       "      <th>3</th>\n",
       "      <td>Autoencoder Gaussian</td>\n",
       "      <td>10.82%</td>\n",
       "      <td>1.71%</td>\n",
       "      <td>68.70%</td>\n",
       "      <td>11.98%</td>\n",
       "      <td>12.24%</td>\n",
       "      <td>25.09%</td>\n",
       "    </tr>\n",
       "  </tbody>\n",
       "</table>\n",
       "</div>"
      ],
      "text/plain": [
       "              Detection Model  MNIST  Yale Faces  Synthetic/  Synthetic_2/  \\\n",
       "0          PCA Reconstruction 47.19%      48.42%       9.85%        18.72%   \n",
       "1                PCA Guassian  0.00%       1.71%       2.27%        15.47%   \n",
       "2  Autoencoder Reconstruction 57.95%      87.25%      13.21%        25.58%   \n",
       "3        Autoencoder Gaussian 10.82%       1.71%      68.70%        11.98%   \n",
       "\n",
       "   Synthetic_3/  Synthetic_4/  \n",
       "0        63.95%        11.73%  \n",
       "1        53.87%         1.63%  \n",
       "2        70.23%         3.08%  \n",
       "3        12.24%        25.09%  "
      ]
     },
     "execution_count": 5,
     "metadata": {},
     "output_type": "execute_result"
    }
   ],
   "source": [
    "create_df('RPrec')"
   ]
  },
  {
   "cell_type": "markdown",
   "metadata": {},
   "source": [
    "### Precision @ K"
   ]
  },
  {
   "cell_type": "code",
   "execution_count": 6,
   "metadata": {},
   "outputs": [
    {
     "data": {
      "text/html": [
       "<div>\n",
       "<style>\n",
       "    .dataframe thead tr:only-child th {\n",
       "        text-align: right;\n",
       "    }\n",
       "\n",
       "    .dataframe thead th {\n",
       "        text-align: left;\n",
       "    }\n",
       "\n",
       "    .dataframe tbody tr th {\n",
       "        vertical-align: top;\n",
       "    }\n",
       "</style>\n",
       "<table border=\"1\" class=\"dataframe\">\n",
       "  <thead>\n",
       "    <tr style=\"text-align: right;\">\n",
       "      <th></th>\n",
       "      <th>Detection Model</th>\n",
       "      <th>MNIST</th>\n",
       "      <th>Yale Faces</th>\n",
       "      <th>Synthetic/</th>\n",
       "      <th>Synthetic_2/</th>\n",
       "      <th>Synthetic_3/</th>\n",
       "      <th>Synthetic_4/</th>\n",
       "    </tr>\n",
       "  </thead>\n",
       "  <tbody>\n",
       "    <tr>\n",
       "      <th>0</th>\n",
       "      <td>PCA Reconstruction</td>\n",
       "      <td>80.00%</td>\n",
       "      <td>51.69%</td>\n",
       "      <td>6.00%</td>\n",
       "      <td>22.50%</td>\n",
       "      <td>100.00%</td>\n",
       "      <td>6.00%</td>\n",
       "    </tr>\n",
       "    <tr>\n",
       "      <th>1</th>\n",
       "      <td>PCA Guassian</td>\n",
       "      <td>0.00%</td>\n",
       "      <td>2.00%</td>\n",
       "      <td>0.00%</td>\n",
       "      <td>15.50%</td>\n",
       "      <td>100.00%</td>\n",
       "      <td>0.00%</td>\n",
       "    </tr>\n",
       "    <tr>\n",
       "      <th>2</th>\n",
       "      <td>Autoencoder Reconstruction</td>\n",
       "      <td>85.00%</td>\n",
       "      <td>88.65%</td>\n",
       "      <td>24.00%</td>\n",
       "      <td>39.00%</td>\n",
       "      <td>92.50%</td>\n",
       "      <td>0.00%</td>\n",
       "    </tr>\n",
       "    <tr>\n",
       "      <th>3</th>\n",
       "      <td>Autoencoder Gaussian</td>\n",
       "      <td>8.50%</td>\n",
       "      <td>2.00%</td>\n",
       "      <td>13.50%</td>\n",
       "      <td>31.00%</td>\n",
       "      <td>88.50%</td>\n",
       "      <td>12.50%</td>\n",
       "    </tr>\n",
       "  </tbody>\n",
       "</table>\n",
       "</div>"
      ],
      "text/plain": [
       "              Detection Model  MNIST  Yale Faces  Synthetic/  Synthetic_2/  \\\n",
       "0          PCA Reconstruction 80.00%      51.69%       6.00%        22.50%   \n",
       "1                PCA Guassian  0.00%       2.00%       0.00%        15.50%   \n",
       "2  Autoencoder Reconstruction 85.00%      88.65%      24.00%        39.00%   \n",
       "3        Autoencoder Gaussian  8.50%       2.00%      13.50%        31.00%   \n",
       "\n",
       "   Synthetic_3/  Synthetic_4/  \n",
       "0       100.00%         6.00%  \n",
       "1       100.00%         0.00%  \n",
       "2        92.50%         0.00%  \n",
       "3        88.50%        12.50%  "
      ]
     },
     "execution_count": 6,
     "metadata": {},
     "output_type": "execute_result"
    }
   ],
   "source": [
    "create_df('PrecK')"
   ]
  }
 ],
 "metadata": {
  "anaconda-cloud": {},
  "kernelspec": {
   "display_name": "Python 3",
   "language": "python",
   "name": "python3"
  },
  "language_info": {
   "codemirror_mode": {
    "name": "ipython",
    "version": 3
   },
   "file_extension": ".py",
   "mimetype": "text/x-python",
   "name": "python",
   "nbconvert_exporter": "python",
   "pygments_lexer": "ipython3",
   "version": "3.6.1"
  }
 },
 "nbformat": 4,
 "nbformat_minor": 2
}
