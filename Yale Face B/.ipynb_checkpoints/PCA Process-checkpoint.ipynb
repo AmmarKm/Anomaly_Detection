{
 "cells": [
  {
   "cell_type": "markdown",
   "metadata": {},
   "source": [
    "Data Source: http://vision.ucsd.edu/~iskwak/ExtYaleDatabase/ExtYaleB.html"
   ]
  },
  {
   "cell_type": "code",
   "execution_count": 1,
   "metadata": {
    "collapsed": true
   },
   "outputs": [],
   "source": [
    "import numpy as np  \n",
    "import pandas as pd  \n",
    "import matplotlib.pyplot as plt  \n",
    "import seaborn as sb  \n",
    "from scipy.io import loadmat  \n",
    "from scipy import stats  \n",
    "from scipy.stats import multivariate_normal\n",
    "import re\n",
    "import glob\n",
    "%matplotlib inline"
   ]
  },
  {
   "cell_type": "code",
   "execution_count": 2,
   "metadata": {
    "collapsed": true
   },
   "outputs": [],
   "source": [
    "def read_images(data_path,target_folders,label_1_folder):\n",
    "    \"\"\"\n",
    "    This function reads in all images inside the specified folders, and label the images based on label_1_folder\n",
    "    data_path: the path of the folder where all the image folders reside in\n",
    "    target_folders: the target_folders to be read from\n",
    "    label_1_folder: images in the specified folders will be labeled with 1\n",
    "    \"\"\"\n",
    "    # label_1_folder = [9,21]\n",
    "    folder_paths = glob.glob(data_path + \"*\")\n",
    "    images = [] # Initialize a list to record images\n",
    "    labels = [] # Initialize a list to record labels\n",
    "    for folder_path in folder_paths:\n",
    "        index = int(folder_path[-2:]) # Get the index embeded in the folder path\n",
    "        if index in target_folders:\n",
    "            # Assign labels\n",
    "            if index in label_1_folder:\n",
    "                label =1\n",
    "            else:\n",
    "                label = 0\n",
    "\n",
    "            # Read in images and corresponding labels\n",
    "            img_paths = glob.glob(folder_path + \"/*.pgm\")\n",
    "            for img_path in img_paths: \n",
    "                if img_path.find(\"Ambient\")>0:\n",
    "                    img_paths.remove(img_path) # We do not want the \"Ambient\" image because it is a profile picture\n",
    "                else:\n",
    "                    img = plt.imread(img_path)\n",
    "                    images.append(img)\n",
    "                    labels.append(label)\n",
    "    return images,labels\n",
    "\n",
    "\n",
    "def dark_pixel_curve(images,light_threshold = 20):\n",
    "    \"\"\"\n",
    "    Images are taken at different lighting conditions; thus some of the photos are dark. In order to avoid \n",
    "    the impact of the bad lighting conditions, we need to remove photos with large number of dark pixels. \n",
    "    This curve shows us the number of images to be removed at different thresholds (total number of pixels \n",
    "    that are below 20 in one image). It can help us select an appropriate threshold. \n",
    "    \"\"\"\n",
    "    height, width = images[0].shape # Get the dimension of one image\n",
    "    thresh_list = range(100,height*width,100) # Threshold levels to be tested: from 100 to the total pixels\n",
    "    remove_list = []\n",
    "    for dark_pixel_threshold in thresh_list:\n",
    "        remove_count = 0\n",
    "        for i in range(0,images_num):\n",
    "            if sum(sum(images[i] < light_threshold)) > dark_pixel_threshold:\n",
    "                remove_count = remove_count + 1\n",
    "        remove_list.append(remove_count)\n",
    "    \n",
    "    plt.plot(thresh_list,remove_list)\n",
    "    plt.xlabel(\"Number of dark pixels in an image\")\n",
    "    plt.ylabel(\"Number of images to be removed from the list\")\n",
    "    plt.title(\"Select the right threshold level\")\n",
    "    \n",
    "def remove_dark_img(imgs,labels,dark_pixel_threshold,light_threshold = 20):\n",
    "    \"\"\"\n",
    "    This function remove images that have more dark pixels (<20) than our threshold\n",
    "    \"\"\"\n",
    "    remove_count = 0\n",
    "    imgs_num = len(imgs)\n",
    "    for i in range(imgs_num-1,0-1,-1):\n",
    "        if sum(sum(imgs[i] < light_threshold)) > dark_pixel_threshold:\n",
    "            del imgs[i]\n",
    "            del labels[i]\n",
    "            remove_count = remove_count + 1\n",
    "    print \"%(count)d images are below our threshold and thus removed from the list\" % {\"count\": remove_count}\n",
    "    return imgs,labels,remove_count\n",
    "\n",
    "def plot_images(imgs,labels):\n",
    "    \"\"\"\n",
    "    Plot 25 images selected randomly\n",
    "    \"\"\"\n",
    "    ind = np.random.permutation(len(imgs))\n",
    "\n",
    "    # Create figure with 3x3 sub-plots.\n",
    "    fig, axes = plt.subplots(5, 5,figsize=(15,15))\n",
    "    fig.subplots_adjust(hspace=0.1, wspace=0.01)\n",
    "\n",
    "    for i, ax in enumerate(axes.flat): \n",
    "        ax.imshow(imgs[ind[i]], plt.cm.gray)\n",
    "        xlabel = \"Anomaly: {0}\".format(labels[ind[i]])\n",
    "        # Show the classes as the label on the x-axis.\n",
    "        ax.set_xlabel(xlabel)\n",
    "        \n",
    "        # Remove ticks from the plot.\n",
    "        ax.set_xticks([])\n",
    "        ax.set_yticks([])\n",
    "    \n",
    "    plt.show()\n",
    "\n",
    "def show_anomaly_images(images,labels):\n",
    "    \"\"\"\n",
    "    This function randomly show 9 images with label 1\n",
    "    \"\"\"\n",
    "    anomaly_label_index = np.asarray(np.where(labels)).reshape(-1) # Get the indice of anomaly\n",
    "    anomaly_image = [images[i] for i in anomaly_label_index] # Extract the images labeled as anomaly\n",
    "    anomaly_label = [labels[i] for i in anomaly_label_index] # Extract the images labeled as anomaly\n",
    "    plot_images(anomaly_image,anomaly_label) # Show 9 images randomly"
   ]
  },
  {
   "cell_type": "code",
   "execution_count": 3,
   "metadata": {
    "collapsed": false
   },
   "outputs": [
    {
     "data": {
      "text/plain": [
       "(126, 1243)"
      ]
     },
     "execution_count": 3,
     "metadata": {},
     "output_type": "execute_result"
    }
   ],
   "source": [
    "# Read in the images and labels\n",
    "label_1_folder = [9,21]\n",
    "target_folders = range(1,22)\n",
    "data_path = \"CroppedYale/\"\n",
    "images,labels = read_images(data_path,target_folders,label_1_folder)\n",
    "\n",
    "# Number of labels as \"Anomaly\" and Total Number of Labels\n",
    "sum(labels),len(labels)"
   ]
  },
  {
   "cell_type": "code",
   "execution_count": 4,
   "metadata": {
    "collapsed": false
   },
   "outputs": [
    {
     "ename": "NameError",
     "evalue": "global name 'light_threshold' is not defined",
     "output_type": "error",
     "traceback": [
      "\u001b[0;31m---------------------------------------------------------------------------\u001b[0m",
      "\u001b[0;31mNameError\u001b[0m                                 Traceback (most recent call last)",
      "\u001b[0;32m<ipython-input-4-a3d5b3d39804>\u001b[0m in \u001b[0;36m<module>\u001b[0;34m()\u001b[0m\n\u001b[1;32m      4\u001b[0m \u001b[0mimgs\u001b[0m \u001b[0;34m=\u001b[0m \u001b[0mimages\u001b[0m\u001b[0;34m[\u001b[0m\u001b[0;34m:\u001b[0m\u001b[0;34m]\u001b[0m \u001b[0;31m# Create a copy\u001b[0m\u001b[0;34m\u001b[0m\u001b[0m\n\u001b[1;32m      5\u001b[0m \u001b[0;31m# Eliminate the images and labels whose number of dark pixels are above the threshold\u001b[0m\u001b[0;34m\u001b[0m\u001b[0;34m\u001b[0m\u001b[0m\n\u001b[0;32m----> 6\u001b[0;31m \u001b[0mimgs\u001b[0m\u001b[0;34m,\u001b[0m\u001b[0mlabels\u001b[0m\u001b[0;34m,\u001b[0m\u001b[0mremove_count\u001b[0m \u001b[0;34m=\u001b[0m \u001b[0mremove_dark_img\u001b[0m\u001b[0;34m(\u001b[0m\u001b[0mimgs\u001b[0m\u001b[0;34m,\u001b[0m\u001b[0mlabels\u001b[0m\u001b[0;34m,\u001b[0m\u001b[0;36m12000\u001b[0m\u001b[0;34m)\u001b[0m\u001b[0;34m\u001b[0m\u001b[0m\n\u001b[0m\u001b[1;32m      7\u001b[0m \u001b[0;34m\u001b[0m\u001b[0m\n\u001b[1;32m      8\u001b[0m \u001b[0mplot_images\u001b[0m\u001b[0;34m(\u001b[0m\u001b[0mimgs\u001b[0m\u001b[0;34m,\u001b[0m\u001b[0mlabels\u001b[0m\u001b[0;34m)\u001b[0m\u001b[0;34m\u001b[0m\u001b[0m\n",
      "\u001b[0;32m<ipython-input-2-296da2bfed41>\u001b[0m in \u001b[0;36mremove_dark_img\u001b[0;34m(imgs, labels, dark_pixel_threshold)\u001b[0m\n\u001b[1;32m     37\u001b[0m     \u001b[0mimgs_num\u001b[0m \u001b[0;34m=\u001b[0m \u001b[0mlen\u001b[0m\u001b[0;34m(\u001b[0m\u001b[0mimgs\u001b[0m\u001b[0;34m)\u001b[0m\u001b[0;34m\u001b[0m\u001b[0m\n\u001b[1;32m     38\u001b[0m     \u001b[0;32mfor\u001b[0m \u001b[0mi\u001b[0m \u001b[0;32min\u001b[0m \u001b[0mrange\u001b[0m\u001b[0;34m(\u001b[0m\u001b[0mimgs_num\u001b[0m\u001b[0;34m-\u001b[0m\u001b[0;36m1\u001b[0m\u001b[0;34m,\u001b[0m\u001b[0;36m0\u001b[0m\u001b[0;34m-\u001b[0m\u001b[0;36m1\u001b[0m\u001b[0;34m,\u001b[0m\u001b[0;34m-\u001b[0m\u001b[0;36m1\u001b[0m\u001b[0;34m)\u001b[0m\u001b[0;34m:\u001b[0m\u001b[0;34m\u001b[0m\u001b[0m\n\u001b[0;32m---> 39\u001b[0;31m         \u001b[0;32mif\u001b[0m \u001b[0msum\u001b[0m\u001b[0;34m(\u001b[0m\u001b[0msum\u001b[0m\u001b[0;34m(\u001b[0m\u001b[0mimgs\u001b[0m\u001b[0;34m[\u001b[0m\u001b[0mi\u001b[0m\u001b[0;34m]\u001b[0m \u001b[0;34m<\u001b[0m \u001b[0mlight_threshold\u001b[0m\u001b[0;34m)\u001b[0m\u001b[0;34m)\u001b[0m \u001b[0;34m>\u001b[0m \u001b[0mdark_pixel_threshold\u001b[0m\u001b[0;34m:\u001b[0m\u001b[0;34m\u001b[0m\u001b[0m\n\u001b[0m\u001b[1;32m     40\u001b[0m             \u001b[0;32mdel\u001b[0m \u001b[0mimgs\u001b[0m\u001b[0;34m[\u001b[0m\u001b[0mi\u001b[0m\u001b[0;34m]\u001b[0m\u001b[0;34m\u001b[0m\u001b[0m\n\u001b[1;32m     41\u001b[0m             \u001b[0;32mdel\u001b[0m \u001b[0mlabels\u001b[0m\u001b[0;34m[\u001b[0m\u001b[0mi\u001b[0m\u001b[0;34m]\u001b[0m\u001b[0;34m\u001b[0m\u001b[0m\n",
      "\u001b[0;31mNameError\u001b[0m: global name 'light_threshold' is not defined"
     ]
    }
   ],
   "source": [
    "# To evaluate the threshold of the dark pixels\n",
    "# dark_pixel_curve(images)\n",
    "\n",
    "imgs = images[:] # Create a copy\n",
    "# Eliminate the images and labels whose number of dark pixels are above the threshold\n",
    "imgs,labels,remove_count = remove_dark_img(imgs,labels,12000) \n",
    "\n",
    "plot_images(imgs,labels)"
   ]
  },
  {
   "cell_type": "code",
   "execution_count": null,
   "metadata": {
    "collapsed": true
   },
   "outputs": [],
   "source": [
    "# Measure the dimensions\n",
    "height,width = img.shape # Dimension of a single image\n",
    "images_num = len(images) # Number of images read from the the folder"
   ]
  },
  {
   "cell_type": "code",
   "execution_count": null,
   "metadata": {
    "collapsed": false,
    "scrolled": false
   },
   "outputs": [],
   "source": [
    "# Randomly select and show anomalous images\n",
    "show_anomaly_images(imgs,labels)"
   ]
  }
 ],
 "metadata": {
  "kernelspec": {
   "display_name": "Python 2",
   "language": "python",
   "name": "python2"
  },
  "language_info": {
   "codemirror_mode": {
    "name": "ipython",
    "version": 2
   },
   "file_extension": ".py",
   "mimetype": "text/x-python",
   "name": "python",
   "nbconvert_exporter": "python",
   "pygments_lexer": "ipython2",
   "version": "2.7.6"
  }
 },
 "nbformat": 4,
 "nbformat_minor": 1
}
