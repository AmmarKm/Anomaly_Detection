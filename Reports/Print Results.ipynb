{
 "cells": [
  {
   "cell_type": "code",
   "execution_count": 1,
   "metadata": {
    "collapsed": false
   },
   "outputs": [],
   "source": [
    "import pandas as pd\n",
    "import numpy as np\n",
    "import os\n",
    "os.chdir('../') # Go to the parent folder"
   ]
  },
  {
   "cell_type": "code",
   "execution_count": 2,
   "metadata": {
    "collapsed": false
   },
   "outputs": [
    {
     "name": "stderr",
     "output_type": "stream",
     "text": [
      "Using TensorFlow backend.\n"
     ]
    }
   ],
   "source": [
    "results = np.load('evaluation_results.npy')"
   ]
  },
  {
   "cell_type": "code",
   "execution_count": 3,
   "metadata": {
    "collapsed": false
   },
   "outputs": [],
   "source": [
    "n_data = 6\n",
    "n_models = 4"
   ]
  },
  {
   "cell_type": "markdown",
   "metadata": {},
   "source": [
    "### R-Precision"
   ]
  },
  {
   "cell_type": "code",
   "execution_count": 4,
   "metadata": {
    "collapsed": false
   },
   "outputs": [
    {
     "data": {
      "text/html": [
       "<div>\n",
       "<style>\n",
       "    .dataframe thead tr:only-child th {\n",
       "        text-align: right;\n",
       "    }\n",
       "\n",
       "    .dataframe thead th {\n",
       "        text-align: left;\n",
       "    }\n",
       "\n",
       "    .dataframe tbody tr th {\n",
       "        vertical-align: top;\n",
       "    }\n",
       "</style>\n",
       "<table border=\"1\" class=\"dataframe\">\n",
       "  <thead>\n",
       "    <tr style=\"text-align: right;\">\n",
       "      <th></th>\n",
       "      <th>Detection Model</th>\n",
       "      <th>MNIST</th>\n",
       "      <th>MNIST</th>\n",
       "      <th>MNIST</th>\n",
       "      <th>MNIST</th>\n",
       "      <th>Yale Faces</th>\n",
       "      <th>Yale Faces</th>\n",
       "    </tr>\n",
       "  </thead>\n",
       "  <tbody>\n",
       "    <tr>\n",
       "      <th>0</th>\n",
       "      <td>PCA Reconstruction</td>\n",
       "      <td>47.19%</td>\n",
       "      <td>0.00%</td>\n",
       "      <td>61.63%</td>\n",
       "      <td>13.86%</td>\n",
       "      <td>57.14%</td>\n",
       "      <td>7.14%</td>\n",
       "    </tr>\n",
       "    <tr>\n",
       "      <th>1</th>\n",
       "      <td>Autoencoder Reconstruction</td>\n",
       "      <td>78.57%</td>\n",
       "      <td>7.14%</td>\n",
       "      <td>8.05%</td>\n",
       "      <td>2.14%</td>\n",
       "      <td>0.00%</td>\n",
       "      <td>5.98%</td>\n",
       "    </tr>\n",
       "    <tr>\n",
       "      <th>2</th>\n",
       "      <td>PCA Reconstruction</td>\n",
       "      <td>18.40%</td>\n",
       "      <td>15.31%</td>\n",
       "      <td>26.41%</td>\n",
       "      <td>7.67%</td>\n",
       "      <td>58.26%</td>\n",
       "      <td>53.63%</td>\n",
       "    </tr>\n",
       "    <tr>\n",
       "      <th>3</th>\n",
       "      <td>Autoencoder Reconstruction</td>\n",
       "      <td>4.82%</td>\n",
       "      <td>7.90%</td>\n",
       "      <td>11.98%</td>\n",
       "      <td>1.78%</td>\n",
       "      <td>0.00%</td>\n",
       "      <td>24.32%</td>\n",
       "    </tr>\n",
       "  </tbody>\n",
       "</table>\n",
       "</div>"
      ],
      "text/plain": [
       "              Detection Model  MNIST  MNIST  MNIST  MNIST  Yale Faces  \\\n",
       "0          PCA Reconstruction 47.19%  0.00% 61.63% 13.86%      57.14%   \n",
       "1  Autoencoder Reconstruction 78.57%  7.14%  8.05%  2.14%       0.00%   \n",
       "2          PCA Reconstruction 18.40% 15.31% 26.41%  7.67%      58.26%   \n",
       "3  Autoencoder Reconstruction  4.82%  7.90% 11.98%  1.78%       0.00%   \n",
       "\n",
       "   Yale Faces  \n",
       "0       7.14%  \n",
       "1       5.98%  \n",
       "2      53.63%  \n",
       "3      24.32%  "
      ]
     },
     "execution_count": 4,
     "metadata": {},
     "output_type": "execute_result"
    }
   ],
   "source": [
    "result_mx = np.zeros((n_models,n_data))\n",
    "colnames = []\n",
    "rownames = []\n",
    "\n",
    "count = 0\n",
    "for i in range(0,n_models):\n",
    "    for j in range(0,n_data):\n",
    "        result_mx[i,j] = results[count].RPrec\n",
    "        if i == 0:\n",
    "            colnames.append(results[count].data_name)\n",
    "        if j == 0:\n",
    "            rownames.append(results[count].detect_model)\n",
    "        count +=1\n",
    "pd.options.display.float_format = '{:.2%}'.format # Set format\n",
    "df = pd.DataFrame(result_mx)\n",
    "df.columns = colnames\n",
    "df.insert(0,'Detection Model',rownames)\n",
    "df"
   ]
  },
  {
   "cell_type": "markdown",
   "metadata": {},
   "source": [
    "### Precision @ K"
   ]
  },
  {
   "cell_type": "code",
   "execution_count": 5,
   "metadata": {
    "collapsed": false
   },
   "outputs": [
    {
     "data": {
      "text/html": [
       "<div>\n",
       "<style>\n",
       "    .dataframe thead tr:only-child th {\n",
       "        text-align: right;\n",
       "    }\n",
       "\n",
       "    .dataframe thead th {\n",
       "        text-align: left;\n",
       "    }\n",
       "\n",
       "    .dataframe tbody tr th {\n",
       "        vertical-align: top;\n",
       "    }\n",
       "</style>\n",
       "<table border=\"1\" class=\"dataframe\">\n",
       "  <thead>\n",
       "    <tr style=\"text-align: right;\">\n",
       "      <th></th>\n",
       "      <th>Detection Model</th>\n",
       "      <th>MNIST</th>\n",
       "      <th>MNIST</th>\n",
       "      <th>MNIST</th>\n",
       "      <th>MNIST</th>\n",
       "      <th>Yale Faces</th>\n",
       "      <th>Yale Faces</th>\n",
       "    </tr>\n",
       "  </thead>\n",
       "  <tbody>\n",
       "    <tr>\n",
       "      <th>0</th>\n",
       "      <td>PCA Reconstruction</td>\n",
       "      <td>80.00%</td>\n",
       "      <td>0.00%</td>\n",
       "      <td>90.00%</td>\n",
       "      <td>10.00%</td>\n",
       "      <td>60.00%</td>\n",
       "      <td>10.00%</td>\n",
       "    </tr>\n",
       "    <tr>\n",
       "      <th>1</th>\n",
       "      <td>Autoencoder Reconstruction</td>\n",
       "      <td>90.00%</td>\n",
       "      <td>10.00%</td>\n",
       "      <td>15.00%</td>\n",
       "      <td>0.00%</td>\n",
       "      <td>0.00%</td>\n",
       "      <td>0.00%</td>\n",
       "    </tr>\n",
       "    <tr>\n",
       "      <th>2</th>\n",
       "      <td>PCA Reconstruction</td>\n",
       "      <td>20.00%</td>\n",
       "      <td>20.00%</td>\n",
       "      <td>0.00%</td>\n",
       "      <td>15.00%</td>\n",
       "      <td>100.00%</td>\n",
       "      <td>100.00%</td>\n",
       "    </tr>\n",
       "    <tr>\n",
       "      <th>3</th>\n",
       "      <td>Autoencoder Reconstruction</td>\n",
       "      <td>100.00%</td>\n",
       "      <td>85.00%</td>\n",
       "      <td>10.00%</td>\n",
       "      <td>0.00%</td>\n",
       "      <td>0.00%</td>\n",
       "      <td>0.00%</td>\n",
       "    </tr>\n",
       "  </tbody>\n",
       "</table>\n",
       "</div>"
      ],
      "text/plain": [
       "              Detection Model   MNIST  MNIST  MNIST  MNIST  Yale Faces  \\\n",
       "0          PCA Reconstruction  80.00%  0.00% 90.00% 10.00%      60.00%   \n",
       "1  Autoencoder Reconstruction  90.00% 10.00% 15.00%  0.00%       0.00%   \n",
       "2          PCA Reconstruction  20.00% 20.00%  0.00% 15.00%     100.00%   \n",
       "3  Autoencoder Reconstruction 100.00% 85.00% 10.00%  0.00%       0.00%   \n",
       "\n",
       "   Yale Faces  \n",
       "0      10.00%  \n",
       "1       0.00%  \n",
       "2     100.00%  \n",
       "3       0.00%  "
      ]
     },
     "execution_count": 5,
     "metadata": {},
     "output_type": "execute_result"
    }
   ],
   "source": [
    "result_mx = np.zeros((n_models,n_data))\n",
    "colnames = []\n",
    "rownames = []\n",
    "ks = []\n",
    "count = 0\n",
    "for i in range(0,n_models):\n",
    "    for j in range(0,n_data):\n",
    "        result_mx[i,j] = results[count].PrecK\n",
    "        if i == 0:\n",
    "            colnames.append(results[count].data_name)\n",
    "            ks.append(results[count].k)\n",
    "        if j == 0:\n",
    "            rownames.append(results[count].detect_model)\n",
    "        count +=1\n",
    "pd.options.display.float_format = '{:.2%}'.format # Set format\n",
    "df2= pd.DataFrame(result_mx)\n",
    "df2.columns = colnames\n",
    "df2.insert(0,'Detection Model',rownames)\n",
    "df2"
   ]
  }
 ],
 "metadata": {
  "anaconda-cloud": {},
  "kernelspec": {
   "display_name": "Python 3",
   "language": "python",
   "name": "python3"
  },
  "language_info": {
   "codemirror_mode": {
    "name": "ipython",
    "version": 3
   },
   "file_extension": ".py",
   "mimetype": "text/x-python",
   "name": "python",
   "nbconvert_exporter": "python",
   "pygments_lexer": "ipython3",
   "version": "3.6.0"
  }
 },
 "nbformat": 4,
 "nbformat_minor": 2
}
