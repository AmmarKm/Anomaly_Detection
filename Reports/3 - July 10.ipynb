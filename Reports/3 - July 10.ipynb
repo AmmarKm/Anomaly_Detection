{
 "cells": [
  {
   "cell_type": "code",
   "execution_count": 1,
   "metadata": {
    "collapsed": false
   },
   "outputs": [
    {
     "name": "stderr",
     "output_type": "stream",
     "text": [
      "Using TensorFlow backend.\n"
     ]
    }
   ],
   "source": [
    "import os\n",
    "os.chdir('../') # Go to the parent folder\n",
    "from test_functions import *"
   ]
  },
  {
   "cell_type": "code",
   "execution_count": 2,
   "metadata": {
    "collapsed": false,
    "scrolled": false
   },
   "outputs": [
    {
     "data": {
      "text/plain": [
       "(0.66666666666666663,\n",
       " 0.7142857142857143,\n",
       " 0.68965517241379304,\n",
       " 0.7142857142857143,\n",
       " 15,\n",
       " 0.69999999999999996)"
      ]
     },
     "execution_count": 2,
     "metadata": {},
     "output_type": "execute_result"
    }
   ],
   "source": [
    "#Recall,Precision,F,RPrec,R,PrecK = mnist_pca_reconstruction_error()\n",
    "#Recall,Precision,F,RPrec,R,PrecK = mnist_pca_gaussian()\n",
    "#Recall,Precision,F,RPrec,R,PrecK = faces_pca_reconstruction_error()\n",
    "#Recall,Precision,F,RPrec,R,PrecK = faces_pca_gaussian()\n",
    "#Recall,Precision,F,RPrec,R,PrecK = mnist_autoencoder_reconstruction_error()\n",
    "#Recall,Precision,F,RPrec,R,PrecK = mnist_autoencoder_gaussian()\n",
    "Recall,Precision,F,RPrec,R,PrecK = faces_autoencoder_reconstruction_error()\n",
    "#Recall,Precision,F,RPrec,R,PrecK = faces_autoencoder_gaussian()\n",
    "Recall,Precision,F,RPrec,R,PrecK"
   ]
  }
 ],
 "metadata": {
  "kernelspec": {
   "display_name": "Python 3",
   "language": "python",
   "name": "python3"
  },
  "language_info": {
   "codemirror_mode": {
    "name": "ipython",
    "version": 3
   },
   "file_extension": ".py",
   "mimetype": "text/x-python",
   "name": "python",
   "nbconvert_exporter": "python",
   "pygments_lexer": "ipython3",
   "version": "3.6.0"
  }
 },
 "nbformat": 4,
 "nbformat_minor": 2
}
