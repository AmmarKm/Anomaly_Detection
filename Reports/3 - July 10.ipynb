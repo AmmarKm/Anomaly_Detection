{
 "cells": [
  {
   "cell_type": "code",
   "execution_count": 1,
   "metadata": {
    "collapsed": false
   },
   "outputs": [
    {
     "name": "stderr",
     "output_type": "stream",
     "text": [
      "Using TensorFlow backend.\n"
     ]
    }
   ],
   "source": [
    "import os\n",
    "os.chdir('../') # Go to the parent folder\n",
    "from test_functions import *\n",
    "from AnomalyDataClass import * # Functions to extract parameters of each data files \n",
    "from support_functions import *"
   ]
  },
  {
   "cell_type": "code",
   "execution_count": 2,
   "metadata": {
    "collapsed": false
   },
   "outputs": [
    {
     "ename": "AttributeError",
     "evalue": "'Results' object has no attribute 'target'",
     "output_type": "error",
     "traceback": [
      "\u001b[0;31m---------------------------------------------------------------------------\u001b[0m",
      "\u001b[0;31mAttributeError\u001b[0m                            Traceback (most recent call last)",
      "\u001b[0;32m<ipython-input-2-4c07d6ed5c4d>\u001b[0m in \u001b[0;36m<module>\u001b[0;34m()\u001b[0m\n\u001b[1;32m      2\u001b[0m     \u001b[0mresults\u001b[0m \u001b[0;34m=\u001b[0m \u001b[0mResults\u001b[0m\u001b[0;34m(\u001b[0m\u001b[0mR\u001b[0m\u001b[0;34m=\u001b[0m\u001b[0;36m1\u001b[0m\u001b[0;34m)\u001b[0m\u001b[0;34m\u001b[0m\u001b[0m\n\u001b[1;32m      3\u001b[0m     \u001b[0mprint\u001b[0m\u001b[0;34m(\u001b[0m\u001b[0mresults\u001b[0m\u001b[0;34m.\u001b[0m\u001b[0mtarget\u001b[0m\u001b[0;34m)\u001b[0m\u001b[0;34m\u001b[0m\u001b[0m\n\u001b[0;32m----> 4\u001b[0;31m \u001b[0mprint_target\u001b[0m\u001b[0;34m(\u001b[0m\u001b[0;34m'R'\u001b[0m\u001b[0;34m)\u001b[0m\u001b[0;34m\u001b[0m\u001b[0m\n\u001b[0m",
      "\u001b[0;32m<ipython-input-2-4c07d6ed5c4d>\u001b[0m in \u001b[0;36mprint_target\u001b[0;34m(target)\u001b[0m\n\u001b[1;32m      1\u001b[0m \u001b[0;32mdef\u001b[0m \u001b[0mprint_target\u001b[0m\u001b[0;34m(\u001b[0m\u001b[0mtarget\u001b[0m\u001b[0;34m)\u001b[0m\u001b[0;34m:\u001b[0m\u001b[0;34m\u001b[0m\u001b[0m\n\u001b[1;32m      2\u001b[0m     \u001b[0mresults\u001b[0m \u001b[0;34m=\u001b[0m \u001b[0mResults\u001b[0m\u001b[0;34m(\u001b[0m\u001b[0mR\u001b[0m\u001b[0;34m=\u001b[0m\u001b[0;36m1\u001b[0m\u001b[0;34m)\u001b[0m\u001b[0;34m\u001b[0m\u001b[0m\n\u001b[0;32m----> 3\u001b[0;31m     \u001b[0mprint\u001b[0m\u001b[0;34m(\u001b[0m\u001b[0mresults\u001b[0m\u001b[0;34m.\u001b[0m\u001b[0mtarget\u001b[0m\u001b[0;34m)\u001b[0m\u001b[0;34m\u001b[0m\u001b[0m\n\u001b[0m\u001b[1;32m      4\u001b[0m \u001b[0mprint_target\u001b[0m\u001b[0;34m(\u001b[0m\u001b[0;34m'R'\u001b[0m\u001b[0;34m)\u001b[0m\u001b[0;34m\u001b[0m\u001b[0m\n",
      "\u001b[0;31mAttributeError\u001b[0m: 'Results' object has no attribute 'target'"
     ]
    }
   ],
   "source": [
    "def print_target(target):\n",
    "    results = Results(R=1)\n",
    "    print(results.target)\n",
    "print_target('R')"
   ]
  },
  {
   "cell_type": "code",
   "execution_count": null,
   "metadata": {
    "collapsed": false,
    "scrolled": false
   },
   "outputs": [],
   "source": [
    "#Recall,Precision,F,RPrec,R,PrecK = mnist_pca_reconstruction_error()\n",
    "#Recall,Precision,F,RPrec,R,PrecK = mnist_pca_gaussian()\n",
    "#Recall,Precision,F,RPrec,R,PrecK = faces_pca_reconstruction_error()\n",
    "#Recall,Precision,F,RPrec,R,PrecK = faces_pca_gaussian()\n",
    "#Recall,Precision,F,RPrec,R,PrecK = mnist_autoencoder_reconstruction_error()\n",
    "#Recall,Precision,F,RPrec,R,PrecK = mnist_autoencoder_gaussian()\n",
    "#Recall,Precision,F,RPrec,R,PrecK = faces_autoencoder_reconstruction_error()\n",
    "#Recall,Precision,F,RPrec,R,PrecK = faces_autoencoder_gaussian()\n",
    "#Recall,Precision,F,RPrec,R,PrecK = synthetic_pca_reconstruction_error('Synthetic/')\n",
    "#Recall,Precision,F,RPrec,R,PrecK = synthetic_pca_gaussian('Synthetic/')\n",
    "#Recall,Precision,F,RPrec,R,PrecK = synthetic_autoencoder_reconstruction_error('Synthetic/')\n",
    "#Recall,Precision,F,RPrec,R,PrecK = synthetic_autoencoder_gaussian('Synthetic/')\n",
    "#Recall,Precision,F,RPrec,R,PrecK"
   ]
  }
 ],
 "metadata": {
  "kernelspec": {
   "display_name": "Python 3",
   "language": "python",
   "name": "python3"
  },
  "language_info": {
   "codemirror_mode": {
    "name": "ipython",
    "version": 3
   },
   "file_extension": ".py",
   "mimetype": "text/x-python",
   "name": "python",
   "nbconvert_exporter": "python",
   "pygments_lexer": "ipython3",
   "version": "3.6.0"
  }
 },
 "nbformat": 4,
 "nbformat_minor": 2
}
