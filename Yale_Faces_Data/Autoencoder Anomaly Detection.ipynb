{
 "cells": [
  {
   "cell_type": "code",
   "execution_count": 3,
   "metadata": {
    "collapsed": false
   },
   "outputs": [],
   "source": [
    "import numpy as np  \n",
    "import pandas as pd  \n",
    "import matplotlib.pyplot as plt  \n",
    "from PIL import Image\n",
    "from scipy.io import loadmat  \n",
    "from scipy import stats  \n",
    "from scipy.stats import multivariate_normal\n",
    "import re\n",
    "import glob\n",
    "from operator import itemgetter \n",
    "import random\n",
    "\n",
    "from support_functions import *\n",
    "\n",
    "from keras.layers import Input, Dense\n",
    "from keras.models import Model\n",
    "from keras.models import load_model"
   ]
  },
  {
   "cell_type": "code",
   "execution_count": 4,
   "metadata": {
    "collapsed": false
   },
   "outputs": [
    {
     "name": "stderr",
     "output_type": "stream",
     "text": [
      "/home/ivan/anaconda3/lib/python3.6/site-packages/keras/models.py:258: UserWarning: No training configuration found in save file: the model was *not* compiled. Compile it manually.\n",
      "  warnings.warn('No training configuration found in save file: '\n"
     ]
    }
   ],
   "source": [
    "autoencoder = load_model('model_autoencoder.h5')\n",
    "encoder = load_model('model_encoder.h5')"
   ]
  },
  {
   "cell_type": "markdown",
   "metadata": {},
   "source": [
    "## Read Data"
   ]
  },
  {
   "cell_type": "code",
   "execution_count": 7,
   "metadata": {
    "collapsed": false
   },
   "outputs": [
    {
     "name": "stdout",
     "output_type": "stream",
     "text": [
      "574  images are above our threshold and thus removed from the list\n"
     ]
    }
   ],
   "source": [
    "label_1_folder = [9,21]      # Images in this folder will be labeled as anomaly\n",
    "target_folders = range(1,22) # Read these folders\n",
    "data_path = \"CroppedYale/\"   # Source folder\n",
    "\n",
    "# Read image matrix (n*m), labels (vector of m), and image size\n",
    "imgs, labels, height, width = get_data(label_1_folder,target_folders,data_path)"
   ]
  },
  {
   "cell_type": "code",
   "execution_count": null,
   "metadata": {
    "collapsed": true
   },
   "outputs": [],
   "source": [
    "## Anomaly Detection with "
   ]
  }
 ],
 "metadata": {
  "kernelspec": {
   "display_name": "Python 3",
   "language": "python",
   "name": "python3"
  },
  "language_info": {
   "codemirror_mode": {
    "name": "ipython",
    "version": 3
   },
   "file_extension": ".py",
   "mimetype": "text/x-python",
   "name": "python",
   "nbconvert_exporter": "python",
   "pygments_lexer": "ipython3",
   "version": "3.6.0"
  }
 },
 "nbformat": 4,
 "nbformat_minor": 2
}
