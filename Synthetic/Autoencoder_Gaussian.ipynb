{
 "cells": [
  {
   "cell_type": "code",
   "execution_count": 1,
   "metadata": {
    "collapsed": false
   },
   "outputs": [
    {
     "name": "stderr",
     "output_type": "stream",
     "text": [
      "Using TensorFlow backend.\n"
     ]
    }
   ],
   "source": [
    "import numpy as np  \n",
    "from keras.layers import Input, Dense\n",
    "from keras.models import Model\n",
    "from keras.models import load_model\n",
    "from processing_functions import * \n",
    "\n",
    "import os\n",
    "os.chdir('../') # Go to the parent folder\n",
    "from support_functions import *\n",
    "from Autoencoder_Functions import *\n",
    "os.chdir('Synthetic')"
   ]
  },
  {
   "cell_type": "markdown",
   "metadata": {},
   "source": [
    "## Parameters"
   ]
  },
  {
   "cell_type": "code",
   "execution_count": 2,
   "metadata": {
    "collapsed": true
   },
   "outputs": [],
   "source": [
    "k = 50 # Define the k parameter for the precision at k"
   ]
  },
  {
   "cell_type": "markdown",
   "metadata": {},
   "source": [
    "## Read Data"
   ]
  },
  {
   "cell_type": "code",
   "execution_count": 3,
   "metadata": {
    "collapsed": true
   },
   "outputs": [],
   "source": [
    "data, labels, data_train, data_test, labels_train, labels_test = read_data()\n",
    "# The length of one image vector\n",
    "img_size = data.shape[1]"
   ]
  },
  {
   "cell_type": "markdown",
   "metadata": {},
   "source": [
    "## Load the Saved Models¶"
   ]
  },
  {
   "cell_type": "markdown",
   "metadata": {},
   "source": [
    "### Autoencoder Model"
   ]
  },
  {
   "cell_type": "code",
   "execution_count": 4,
   "metadata": {
    "collapsed": true
   },
   "outputs": [],
   "source": [
    "# Generate and Compile a Deep Autoencoder\n",
    "# Specify the model config\n",
    "encoder_layers_size, decoder_layers_size = get_deep_model_config()\n",
    "# Extract the saved model\n",
    "autoencoder, encoder = compile_autoencoder(img_size,encoder_layers_size, decoder_layers_size) \n",
    "autoencoder = load_model('model_autoencoder.h5') # Load the saved model"
   ]
  },
  {
   "cell_type": "markdown",
   "metadata": {},
   "source": [
    "### Encoder Model"
   ]
  },
  {
   "cell_type": "code",
   "execution_count": 5,
   "metadata": {
    "collapsed": true
   },
   "outputs": [],
   "source": [
    "weights_encoder = autoencoder.get_weights()[0:4] # The first half of the autoencoder model is an encoder model\n",
    "encoder.set_weights(weights_encoder) # Set weights"
   ]
  },
  {
   "cell_type": "code",
   "execution_count": 6,
   "metadata": {
    "collapsed": false
   },
   "outputs": [
    {
     "name": "stdout",
     "output_type": "stream",
     "text": [
      "_________________________________________________________________\n",
      "Layer (type)                 Output Shape              Param #   \n",
      "=================================================================\n",
      "input_1 (InputLayer)         (None, 16)                0         \n",
      "_________________________________________________________________\n",
      "dense_1 (Dense)              (None, 16)                272       \n",
      "_________________________________________________________________\n",
      "dense_2 (Dense)              (None, 8)                 136       \n",
      "_________________________________________________________________\n",
      "dense_3 (Dense)              (None, 4)                 36        \n",
      "=================================================================\n",
      "Total params: 444\n",
      "Trainable params: 444\n",
      "Non-trainable params: 0\n",
      "_________________________________________________________________\n",
      "None\n",
      "\n",
      " The output shape of the encoder model: \n",
      "(None, 4)\n"
     ]
    }
   ],
   "source": [
    "print(encoder.summary())\n",
    "print(\"\\n The output shape of the encoder model: \")\n",
    "print(encoder.output_shape)"
   ]
  },
  {
   "cell_type": "markdown",
   "metadata": {},
   "source": [
    "## Implement the Anomaly Detection¶with the Construction Error"
   ]
  },
  {
   "cell_type": "code",
   "execution_count": null,
   "metadata": {
    "collapsed": true
   },
   "outputs": [],
   "source": [
    "data_train_encoded  = encode_data(autoencoder,data_train,image = False)\n",
    "data_test_encoded = encode_data(autoencoder,data_test, image = False)"
   ]
  },
  {
   "cell_type": "code",
   "execution_count": null,
   "metadata": {
    "collapsed": false
   },
   "outputs": [
    {
     "name": "stdout",
     "output_type": "stream",
     "text": [
      "Finish evaluate Lambda: 0\n",
      "Finish evaluate Lambda: 0.09\n",
      "Finish evaluate Lambda: 0.18\n",
      "Finish evaluate Lambda: 0.27\n"
     ]
    }
   ],
   "source": [
    "train_test_with_gaussian(data_train_encoded, data_test_encoded, labels_train, labels_test,k,whitened = True, plot_comparison = True)"
   ]
  }
 ],
 "metadata": {
  "kernelspec": {
   "display_name": "Python 3",
   "language": "python",
   "name": "python3"
  },
  "language_info": {
   "codemirror_mode": {
    "name": "ipython",
    "version": 3
   },
   "file_extension": ".py",
   "mimetype": "text/x-python",
   "name": "python",
   "nbconvert_exporter": "python",
   "pygments_lexer": "ipython3",
   "version": "3.6.0"
  }
 },
 "nbformat": 4,
 "nbformat_minor": 2
}
